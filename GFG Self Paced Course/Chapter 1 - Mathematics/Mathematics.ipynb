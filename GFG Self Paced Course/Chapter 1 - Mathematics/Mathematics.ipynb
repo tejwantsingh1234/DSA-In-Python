{
 "cells": [
  {
   "cell_type": "markdown",
   "id": "9d3e0819",
   "metadata": {},
   "source": [
    "Counting Digits"
   ]
  },
  {
   "cell_type": "markdown",
   "id": "74f3261d",
   "metadata": {},
   "source": [
    "I/P: x = 9234 \n",
    "\n",
    "O/P: 4"
   ]
  },
  {
   "cell_type": "code",
   "execution_count": 11,
   "id": "bfd46359",
   "metadata": {},
   "outputs": [
    {
     "data": {
      "text/plain": [
       "4"
      ]
     },
     "execution_count": 11,
     "metadata": {},
     "output_type": "execute_result"
    }
   ],
   "source": [
    "def countdigit(n):\n",
    "    digit = 0\n",
    "    while (n>0):\n",
    "        n = n//10 # don't use '/' as its will do float division \n",
    "        digit+=1\n",
    "    return digit\n",
    "\n",
    "countdigit(1234) # T.C => Theta(n)"
   ]
  },
  {
   "cell_type": "markdown",
   "id": "919495af",
   "metadata": {},
   "source": [
    "Palindrome Number"
   ]
  },
  {
   "cell_type": "code",
   "execution_count": 17,
   "id": "824862ee",
   "metadata": {},
   "outputs": [
    {
     "data": {
      "text/plain": [
       "True"
      ]
     },
     "execution_count": 17,
     "metadata": {},
     "output_type": "execute_result"
    }
   ],
   "source": [
    "def isPal(n):\n",
    "    rev = 0\n",
    "    temp = n\n",
    "    while(temp!=0):\n",
    "        ld = temp%10\n",
    "        rev = rev*10 + ld\n",
    "        temp = temp//10\n",
    "    return (rev==n)\n",
    "\n",
    "isPal(78987)  # T.C => Theta(n)"
   ]
  },
  {
   "cell_type": "markdown",
   "id": "c399d098",
   "metadata": {},
   "source": [
    "Factorial of a number"
   ]
  },
  {
   "cell_type": "code",
   "execution_count": 20,
   "id": "79da67c9",
   "metadata": {},
   "outputs": [
    {
     "data": {
      "text/plain": [
       "24"
      ]
     },
     "execution_count": 20,
     "metadata": {},
     "output_type": "execute_result"
    }
   ],
   "source": [
    "# Iterative Implementation\n",
    "\n",
    "def fact(n):\n",
    "    res = 1\n",
    "    for i in range(2,n+1):\n",
    "        res = res*i\n",
    "    return res\n",
    "fact(4)   # T.C => Theta(n), and A.C => O(1)"
   ]
  },
  {
   "cell_type": "code",
   "execution_count": 21,
   "id": "fc98879a",
   "metadata": {},
   "outputs": [
    {
     "data": {
      "text/plain": [
       "24"
      ]
     },
     "execution_count": 21,
     "metadata": {},
     "output_type": "execute_result"
    }
   ],
   "source": [
    "# Recursive Implementation  \n",
    "\n",
    "def factr(n):\n",
    "    if n == 0:\n",
    "        return 1\n",
    "    else:\n",
    "        return n*fact(n-1)\n",
    "factr(4)                      # T.C => Theta(n), A.C => O(n) , and also have more overhead so iterative >>"
   ]
  },
  {
   "cell_type": "markdown",
   "id": "8fe1defd",
   "metadata": {},
   "source": [
    "Trailing zeros in factorial"
   ]
  },
  {
   "cell_type": "code",
   "execution_count": 25,
   "id": "83eae2b9",
   "metadata": {},
   "outputs": [
    {
     "data": {
      "text/plain": [
       "24"
      ]
     },
     "execution_count": 25,
     "metadata": {},
     "output_type": "execute_result"
    }
   ],
   "source": [
    "def countzero(n):\n",
    "    fact = 1\n",
    "    for i in range(2,n+1):\n",
    "        fact = fact*i  # calculates factorial\n",
    "    res = 0\n",
    "    while (fact%10 == 0):\n",
    "        res += 1\n",
    "        fact = fact//10 \n",
    "    return res\n",
    "countzero(100)"
   ]
  },
  {
   "cell_type": "code",
   "execution_count": 30,
   "id": "2725005f",
   "metadata": {},
   "outputs": [
    {
     "data": {
      "text/plain": [
       "62"
      ]
     },
     "execution_count": 30,
     "metadata": {},
     "output_type": "execute_result"
    }
   ],
   "source": [
    "# Efficient method \n",
    "\n",
    "def countTrailingZeros(n):\n",
    "    res = 0\n",
    "    i = 5\n",
    "    while i<=n:\n",
    "        res = res + n//i\n",
    "        i = i*5\n",
    "    return res\n",
    "countTrailingZeros(251)"
   ]
  },
  {
   "cell_type": "markdown",
   "id": "34a6c849",
   "metadata": {},
   "source": [
    "GCD or HCF of 2 numbers"
   ]
  },
  {
   "cell_type": "code",
   "execution_count": 5,
   "id": "e0dc6ca9",
   "metadata": {},
   "outputs": [
    {
     "data": {
      "text/plain": [
       "5"
      ]
     },
     "execution_count": 5,
     "metadata": {},
     "output_type": "execute_result"
    }
   ],
   "source": [
    "def gcd(a,b):\n",
    "    res = min(a,b)\n",
    "    while(res>0):\n",
    "        if (a%res==0 and b%res==0):\n",
    "            break\n",
    "        res-=1\n",
    "    return res\n",
    "\n",
    "gcd(10,15) # T.C => O(min(a,b))"
   ]
  },
  {
   "cell_type": "code",
   "execution_count": 13,
   "id": "815d7a49",
   "metadata": {},
   "outputs": [
    {
     "data": {
      "text/plain": [
       "100"
      ]
     },
     "execution_count": 13,
     "metadata": {},
     "output_type": "execute_result"
    }
   ],
   "source": [
    "# Optimized approach -> Eucliden algorithm\n",
    "\n",
    "def gcd(a,b):\n",
    "    while (a!=b):\n",
    "        if a > b:\n",
    "            a = a-b\n",
    "        else:\n",
    "            b = b-a\n",
    "    return a\n",
    "\n",
    "gcd(100,200)"
   ]
  },
  {
   "cell_type": "code",
   "execution_count": 16,
   "id": "9a594401",
   "metadata": {},
   "outputs": [
    {
     "data": {
      "text/plain": [
       "25"
      ]
     },
     "execution_count": 16,
     "metadata": {},
     "output_type": "execute_result"
    }
   ],
   "source": [
    "# Optimized implementation of GCD\n",
    "\n",
    "def gcd(a,b):\n",
    "    if b == 0:\n",
    "        return a\n",
    "    else:\n",
    "        return gcd(b,a%b)\n",
    "gcd(100,25)"
   ]
  },
  {
   "cell_type": "markdown",
   "id": "dd2770a2",
   "metadata": {},
   "source": [
    "LCM of 2 numbers"
   ]
  },
  {
   "cell_type": "code",
   "execution_count": 22,
   "id": "46323029",
   "metadata": {},
   "outputs": [
    {
     "data": {
      "text/plain": [
       "60"
      ]
     },
     "execution_count": 22,
     "metadata": {},
     "output_type": "execute_result"
    }
   ],
   "source": [
    "# Naive approach\n",
    "\n",
    "def lcm(a,b):\n",
    "    res = max(a,b)\n",
    "    while(True):\n",
    "        if (res%a==0 and res%b==0):\n",
    "            return res\n",
    "        res+=1\n",
    "    return res\n",
    "\n",
    "lcm(12,15)"
   ]
  },
  {
   "cell_type": "code",
   "execution_count": 25,
   "id": "d170872e",
   "metadata": {},
   "outputs": [
    {
     "data": {
      "text/plain": [
       "12.0"
      ]
     },
     "execution_count": 25,
     "metadata": {},
     "output_type": "execute_result"
    }
   ],
   "source": [
    "# Efficient solution\n",
    "\n",
    "def gcd(a,b):\n",
    "    if (b==0):\n",
    "        return a\n",
    "    else:\n",
    "        return gcd(b,a%b)\n",
    "def lcm(a,b):\n",
    "    return (a*b)/gcd(a,b)\n",
    "\n",
    "lcm(6,4)"
   ]
  },
  {
   "cell_type": "markdown",
   "id": "506ae9d5",
   "metadata": {},
   "source": [
    "Check for Prime"
   ]
  },
  {
   "cell_type": "code",
   "execution_count": 36,
   "id": "01f03295",
   "metadata": {},
   "outputs": [
    {
     "data": {
      "text/plain": [
       "False"
      ]
     },
     "execution_count": 36,
     "metadata": {},
     "output_type": "execute_result"
    }
   ],
   "source": [
    "# Naive method\n",
    "\n",
    "def isPrime(n):\n",
    "    if (n==1):\n",
    "        return False\n",
    "    else:\n",
    "        for i in range(2,n):\n",
    "            if n%i==0:\n",
    "                return False\n",
    "        return True\n",
    "    \n",
    "isPrime(18)"
   ]
  },
  {
   "cell_type": "code",
   "execution_count": 21,
   "id": "7979996f",
   "metadata": {},
   "outputs": [
    {
     "data": {
      "text/plain": [
       "True"
      ]
     },
     "execution_count": 21,
     "metadata": {},
     "output_type": "execute_result"
    }
   ],
   "source": [
    "# Efficient method\n",
    "\n",
    "def isPrime(n):\n",
    "    if n==1:\n",
    "        return False\n",
    "    else:\n",
    "        for i in range(2,int(n**0.5) + 1):\n",
    "            if n%i==0:\n",
    "                return False\n",
    "        return True\n",
    "    \n",
    "isPrime(2)"
   ]
  },
  {
   "cell_type": "markdown",
   "id": "0006556c",
   "metadata": {},
   "source": [
    "Prime Factors"
   ]
  },
  {
   "cell_type": "code",
   "execution_count": 2,
   "id": "3256b8ad",
   "metadata": {},
   "outputs": [
    {
     "name": "stdout",
     "output_type": "stream",
     "text": [
      "2\n",
      "2\n",
      "3\n"
     ]
    }
   ],
   "source": [
    "# Naive Approach\n",
    "\n",
    "def PrimeFactors(n):\n",
    "    for i in range(2,n):\n",
    "        if (isPrime(i)):\n",
    "            x = i\n",
    "            while(n%x==0):\n",
    "                print(i)\n",
    "                x=x*i\n",
    "PrimeFactors(12) # T.C. => O(nlogn)"
   ]
  },
  {
   "cell_type": "code",
   "execution_count": 5,
   "id": "cd8f763c",
   "metadata": {},
   "outputs": [
    {
     "name": "stdout",
     "output_type": "stream",
     "text": [
      "2\n",
      "3\n",
      "5\n",
      "5\n",
      "5\n"
     ]
    }
   ],
   "source": [
    "# Efficient Solution\n",
    "\n",
    "def printPrimeFactors(n):\n",
    "    if n <= 1:\n",
    "        return -1\n",
    "    \n",
    "    for i in range(2, int(n**0.5) + 1):\n",
    "        while (n % i == 0):\n",
    "            print(i)\n",
    "            n = n / i\n",
    "    if n>1:\n",
    "        print(n)\n",
    "        \n",
    "printPrimeFactors(750)  # T.C. => O(sqrt(n))"
   ]
  },
  {
   "cell_type": "code",
   "execution_count": 10,
   "id": "1b02c130",
   "metadata": {},
   "outputs": [
    {
     "name": "stdout",
     "output_type": "stream",
     "text": [
      "2\n",
      "2\n",
      "7\n"
     ]
    }
   ],
   "source": [
    "# More efficient solution \n",
    "\n",
    "def printPrimeFactors(n):\n",
    "    if n <= 1:\n",
    "        return -1\n",
    "    \n",
    "    while(n % 2 == 0):\n",
    "        print(2)\n",
    "        n = n / 2\n",
    "        \n",
    "    while (n % 3 == 0):\n",
    "        print(3)\n",
    "        n = n / 3\n",
    "    \n",
    "    for i in range(5, int(n**0.5)+1, 6):\n",
    "        \n",
    "        while (n % i == 0):\n",
    "            print(i)\n",
    "            n = n / i\n",
    "        \n",
    "        while (n % (i + 2) == 0):\n",
    "            print(i + 2)\n",
    "            n = n / (i + 2)\n",
    "    if n > 3:\n",
    "        print(int(n))\n",
    "        \n",
    "printPrimeFactors(28)"
   ]
  },
  {
   "cell_type": "markdown",
   "id": "ea8aa438",
   "metadata": {},
   "source": [
    "All Divisors of a Number"
   ]
  },
  {
   "cell_type": "code",
   "execution_count": 12,
   "id": "c6c7a866",
   "metadata": {},
   "outputs": [
    {
     "name": "stdout",
     "output_type": "stream",
     "text": [
      "1\n",
      "2\n",
      "4\n",
      "7\n",
      "14\n",
      "28\n"
     ]
    }
   ],
   "source": [
    "# Naive Approach\n",
    "\n",
    "def printDivisors(n):\n",
    "    for i in range(1,n+1):\n",
    "        if n % i == 0:\n",
    "            print(i) \n",
    "\n",
    "printDivisors(28) # T.C. => O(n), and A.S => Theta(1)"
   ]
  },
  {
   "cell_type": "code",
   "execution_count": 18,
   "id": "cfd7c281",
   "metadata": {},
   "outputs": [
    {
     "name": "stdout",
     "output_type": "stream",
     "text": [
      "1\n",
      "25\n",
      "5\n"
     ]
    }
   ],
   "source": [
    "# Efficient Solution => But it does not print in order\n",
    "\n",
    "def printDivisors(n):\n",
    "    \n",
    "    for i in range(1, int(n**0.5) + 1):\n",
    "        \n",
    "        if n % i == 0:\n",
    "            print(i)\n",
    "            \n",
    "            if i != n // i:\n",
    "                print(n//i)\n",
    "\n",
    "printDivisors(25)"
   ]
  },
  {
   "cell_type": "code",
   "execution_count": 20,
   "id": "e2f63582",
   "metadata": {},
   "outputs": [
    {
     "name": "stdout",
     "output_type": "stream",
     "text": [
      "1\n",
      "5\n",
      "25\n"
     ]
    }
   ],
   "source": [
    "# Optimized solution \n",
    "\n",
    "def printDivisors(n):\n",
    "    \n",
    "    for i in range(1, int(n**0.5)+1):\n",
    "        \n",
    "        if (n % i == 0):\n",
    "            print(i)\n",
    "    \n",
    "    for i in range(i,0,-1):\n",
    "        \n",
    "        if (n % i == 0) and i != n // i:\n",
    "            print(n//i)\n",
    "            \n",
    "printDivisors(25)"
   ]
  },
  {
   "cell_type": "markdown",
   "id": "94708167",
   "metadata": {},
   "source": [
    "Sieve of Eratosthenes"
   ]
  },
  {
   "cell_type": "code",
   "execution_count": 23,
   "id": "cad2b262",
   "metadata": {},
   "outputs": [
    {
     "name": "stdout",
     "output_type": "stream",
     "text": [
      "2\n",
      "3\n",
      "5\n",
      "7\n",
      "11\n",
      "13\n",
      "17\n",
      "19\n",
      "23\n"
     ]
    }
   ],
   "source": [
    "# Problem -> Print prime numbers <= n\n",
    "\n",
    "def printPrimes(n):\n",
    "    \n",
    "    for i in range(2,n+1):\n",
    "        \n",
    "        if isPrime(i):\n",
    "            print(i)\n",
    "            \n",
    "printPrimes(23)"
   ]
  },
  {
   "cell_type": "code",
   "execution_count": 30,
   "id": "0e1b5d25",
   "metadata": {},
   "outputs": [
    {
     "name": "stdout",
     "output_type": "stream",
     "text": [
      "2  \n",
      "3  \n",
      "5  \n",
      "7  \n"
     ]
    }
   ],
   "source": [
    "# Solving the same problem using Sieve of Eratosthenes\n",
    "\n",
    "def sieve(n):\n",
    "    is_prime = [True] * (n+1) # Array generation and filling all places with True\n",
    "    \n",
    "    for i in range(2, int(n**0.5)+1):\n",
    "        if isPrime(i):\n",
    "            for j in range(2*i,n+1,i):\n",
    "                is_prime[j] = False\n",
    "                \n",
    "    for i in range(2,n+1):\n",
    "        if is_prime[i]:\n",
    "            print(i,\" \")\n",
    "\n",
    "sieve(9)"
   ]
  },
  {
   "cell_type": "code",
   "execution_count": 31,
   "id": "cc47974f",
   "metadata": {},
   "outputs": [
    {
     "name": "stdout",
     "output_type": "stream",
     "text": [
      "2  \n",
      "3  \n",
      "5  \n",
      "7  \n",
      "11  \n",
      "13  \n",
      "17  \n",
      "19  \n",
      "23  \n"
     ]
    }
   ],
   "source": [
    "# Shorter + Optimized approach\n",
    "\n",
    "def sieve(n):\n",
    "    is_prime = [True]*(n+1)\n",
    "    \n",
    "    for i in range(2,n+1):\n",
    "        if isPrime(i):\n",
    "            print(i,\" \")\n",
    "            \n",
    "            for j in range(i*i,n+1,i):\n",
    "                is_prime[j] = False\n",
    "\n",
    "sieve(23)"
   ]
  },
  {
   "cell_type": "markdown",
   "id": "ba64fcf9",
   "metadata": {},
   "source": [
    "Computing Power"
   ]
  },
  {
   "cell_type": "code",
   "execution_count": 9,
   "id": "996777b7",
   "metadata": {},
   "outputs": [
    {
     "data": {
      "text/plain": [
       "512"
      ]
     },
     "execution_count": 9,
     "metadata": {},
     "output_type": "execute_result"
    }
   ],
   "source": [
    "def computingpow(x,n):\n",
    "    while n>=0:\n",
    "        if n == 0:\n",
    "            return 1\n",
    "        elif n == 1:\n",
    "            return x\n",
    "        else:\n",
    "            return x**n\n",
    "        \n",
    "computingpow(2,9) # will be slower than below as it involves more function calls, and uses ** operator"
   ]
  },
  {
   "cell_type": "code",
   "execution_count": 15,
   "id": "e2aa8ddc",
   "metadata": {},
   "outputs": [
    {
     "data": {
      "text/plain": [
       "32"
      ]
     },
     "execution_count": 15,
     "metadata": {},
     "output_type": "execute_result"
    }
   ],
   "source": [
    "# Naive solution\n",
    "\n",
    "def computingpow(x,n):\n",
    "    res = 1\n",
    "    for i in range(0,n):\n",
    "        res = res * x\n",
    "    return res\n",
    "\n",
    "computingpow(2,5)"
   ]
  },
  {
   "cell_type": "code",
   "execution_count": 24,
   "id": "e2219aa7",
   "metadata": {},
   "outputs": [
    {
     "data": {
      "text/plain": [
       "16"
      ]
     },
     "execution_count": 24,
     "metadata": {},
     "output_type": "execute_result"
    }
   ],
   "source": [
    "# Efficient Solution\n",
    "\n",
    "def computingpow(x,n):\n",
    "    if n == 0:\n",
    "        return 1\n",
    "    \n",
    "    temp = (x**(n//2))\n",
    "    temp = temp*temp\n",
    "    \n",
    "    if n%2 == 0:\n",
    "        return temp\n",
    "    else:\n",
    "        return temp*x\n",
    "    \n",
    "computingpow(2,4)"
   ]
  },
  {
   "cell_type": "code",
   "execution_count": 25,
   "id": "7c2a81e6",
   "metadata": {},
   "outputs": [
    {
     "data": {
      "text/plain": [
       "8"
      ]
     },
     "execution_count": 25,
     "metadata": {},
     "output_type": "execute_result"
    }
   ],
   "source": [
    "# Iterative Solution (Binary Exponentiation)\n",
    "\n",
    "def power(x,n):\n",
    "    res = 1\n",
    "    while (n>0):\n",
    "        if n % 2 != 0:\n",
    "            res = res * x\n",
    "        x = x * x\n",
    "        n = n // 2\n",
    "    return res\n",
    "\n",
    "power(2,3)"
   ]
  }
 ],
 "metadata": {
  "kernelspec": {
   "display_name": "Python 3 (ipykernel)",
   "language": "python",
   "name": "python3"
  },
  "language_info": {
   "codemirror_mode": {
    "name": "ipython",
    "version": 3
   },
   "file_extension": ".py",
   "mimetype": "text/x-python",
   "name": "python",
   "nbconvert_exporter": "python",
   "pygments_lexer": "ipython3",
   "version": "3.10.9"
  }
 },
 "nbformat": 4,
 "nbformat_minor": 5
}
